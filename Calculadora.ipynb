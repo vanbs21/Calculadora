{
 "cells": [
  {
   "cell_type": "raw",
   "id": "cf59254e",
   "metadata": {},
   "source": [
    "exiba bem-vindo a calculadora\n",
    "peça ao usuario para inserir o primeiro numero \n",
    "armazene o primeiro numero em uma variavel\n",
    "peça ao usuario para inserir o segundo numero\n",
    "armazene o segundo numero em uma variavel\n",
    "peça ao usuario para selecionar uma operação\n",
    "armazene a operação em uma variavel\n",
    "utilize a operação selecionada e os numeros armazenads para realizar o cálculo\n",
    "exiba o resultado"
   ]
  },
  {
   "cell_type": "code",
   "execution_count": 1,
   "id": "3a75908e",
   "metadata": {},
   "outputs": [
    {
     "name": "stdout",
     "output_type": "stream",
     "text": [
      "bem vindo à calculadora genius\n"
     ]
    }
   ],
   "source": [
    "print (\"bem vindo à calculadora genius\")"
   ]
  },
  {
   "cell_type": "code",
   "execution_count": null,
   "id": "a26cc4b9",
   "metadata": {},
   "outputs": [],
   "source": [
    "num1 = float(input(\"insira aqui primeiro número: \"))"
   ]
  },
  {
   "cell_type": "code",
   "execution_count": null,
   "id": "91f4c8c1",
   "metadata": {},
   "outputs": [],
   "source": [
    "num2 = float(input(\"insira aqui segundo número: \"))"
   ]
  },
  {
   "cell_type": "code",
   "execution_count": null,
   "id": "2c45060c",
   "metadata": {},
   "outputs": [],
   "source": [
    "operacao = input(\"seleciona uma operação: (+, -, *, /): \")"
   ]
  },
  {
   "cell_type": "markdown",
   "id": "5d1c4449",
   "metadata": {},
   "source": [
    "# acima, por que n converte a operação pra float? por que n se converte caractere para casa decimal, n faz sentido\n",
    "\n",
    "# abaixo, o resultado é gravado na variável \"resultado\" antes da atribuição e, posteriomente, imprimido na tela"
   ]
  },
  {
   "cell_type": "code",
   "execution_count": null,
   "id": "3a81b29d",
   "metadata": {},
   "outputs": [],
   "source": [
    "if operacao == \"+\":\n",
    "    resultado = num1 + num2\n",
    "    print(\"o resultado desta operação é: \", resultado)\n",
    "    \n",
    "elif operacao == \"-\":\n",
    "    resultado = num1 - num2\n",
    "    print(\"o resultado desta operação é: \", resultado)\n",
    "    \n",
    "elif operacao == \"*\":\n",
    "    resultado = num1 * num2\n",
    "    print(\"o resultado desta operação é: \", resultado)\n",
    "    \n",
    "elif operacao == \"/\":\n",
    "    resultado = num1 / num2\n",
    "    print(\"o resultado desta operação é: \", resultado)\n",
    "    \n",
    "else:\n",
    "    print(\"operação inválida!\")"
   ]
  },
  {
   "cell_type": "code",
   "execution_count": null,
   "id": "da93ee9e",
   "metadata": {},
   "outputs": [],
   "source": []
  }
 ],
 "metadata": {
  "kernelspec": {
   "display_name": "Python 3 (ipykernel)",
   "language": "python",
   "name": "python3"
  },
  "language_info": {
   "codemirror_mode": {
    "name": "ipython",
    "version": 3
   },
   "file_extension": ".py",
   "mimetype": "text/x-python",
   "name": "python",
   "nbconvert_exporter": "python",
   "pygments_lexer": "ipython3",
   "version": "3.9.13"
  }
 },
 "nbformat": 4,
 "nbformat_minor": 5
}
